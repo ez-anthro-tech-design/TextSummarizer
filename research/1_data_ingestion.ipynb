{
 "cells": [
  {
   "cell_type": "code",
   "execution_count": 126,
   "metadata": {},
   "outputs": [
    {
     "data": {
      "text/plain": [
       "'C:\\\\Users\\\\ericz\\\\TextSummarizer'"
      ]
     },
     "execution_count": 126,
     "metadata": {},
     "output_type": "execute_result"
    }
   ],
   "source": [
    "import os \n",
    "%pwd  #present working directory "
   ]
  },
  {
   "cell_type": "code",
   "execution_count": 127,
   "metadata": {},
   "outputs": [
    {
     "data": {
      "text/plain": [
       "'C:\\\\Users\\\\ericz\\\\TextSummarizer'"
      ]
     },
     "execution_count": 127,
     "metadata": {},
     "output_type": "execute_result"
    }
   ],
   "source": [
    "new_directory = r'C:\\Users\\ericz\\TextSummarizer'  # Change this to your desired path\n",
    "\n",
    "os.chdir(new_directory)\n",
    "%pwd"
   ]
  },
  {
   "cell_type": "markdown",
   "metadata": {},
   "source": [
    "### Basic Configuration"
   ]
  },
  {
   "cell_type": "code",
   "execution_count": 128,
   "metadata": {},
   "outputs": [],
   "source": [
    "# Reading yaml files \n",
    "from dataclasses import dataclass\n",
    "from pathlib import Path\n",
    "\n",
    "# Creating fields to extract the zipfile, unzip the zipfile, and store it in some paths \n",
    "@dataclass # \n",
    "class DataIngestionConfig:\n",
    "    root_dir: Path\n",
    "    source_URL: Path\n",
    "    local_data_file: Path\n",
    "    unzip_dir: Path "
   ]
  },
  {
   "cell_type": "code",
   "execution_count": 129,
   "metadata": {},
   "outputs": [],
   "source": [
    "from src.textSummarizer.constants import *\n",
    "from src.textSummarizer.utils.common import read_yaml, create_directories\n"
   ]
  },
  {
   "cell_type": "markdown",
   "metadata": {},
   "source": [
    "### Configuration Updates\n"
   ]
  },
  {
   "cell_type": "code",
   "execution_count": 130,
   "metadata": {},
   "outputs": [],
   "source": [
    "class ConfigurationManager:\n",
    "    def __init__(self,\n",
    "                 config_path=CONFIG_FILE_PATH,\n",
    "                 params_filepath=PARAMS_FILE_PATH): #path initiated before ANY module \n",
    "        self.config = read_yaml(config_path) # read the YAML file path\n",
    "        self.params = read_yaml(params_filepath)\n",
    "\n",
    "        create_directories([self.config.artifacts_root])\n",
    "# basic setup before starting any module \n",
    "    def get_data_ingestion_config(self) -> DataIngestionConfig: # read all the configurations specified in config.yaml \n",
    "        config=self.config.data_ingestion # reading data from data_ingestion in config.yaml \n",
    "        create_directories([config.root_dir])\n",
    "\n",
    "        data_ingestion_config=DataIngestionConfig( # return all values from DataIngestionConfig\n",
    "            root_dir=config.root_dir,\n",
    "            source_URL=config.source_URL,\n",
    "            local_data_file=config.local_data_file,\n",
    "            unzip_dir=config.unzip_dir \n",
    "        )\n",
    "\n",
    "        return data_ingestion_config\n",
    "    \n"
   ]
  },
  {
   "cell_type": "code",
   "execution_count": 131,
   "metadata": {},
   "outputs": [],
   "source": [
    "import os\n",
    "import urllib.request as request \n",
    "import zipfile \n",
    "from src.textSummarizer.logging import logger \n"
   ]
  },
  {
   "cell_type": "markdown",
   "metadata": {},
   "source": [
    "### Components"
   ]
  },
  {
   "cell_type": "code",
   "execution_count": 132,
   "metadata": {},
   "outputs": [],
   "source": [
    "class DataIngestion:\n",
    "    def __init__(self, config: DataIngestionConfig):\n",
    "        self.config = config \n",
    "    \n",
    "    def download_file(self):  # Download the file \n",
    "        if not os.path.exists(self.config.local_data_file):  # If the file does not exist, retrieve it from the URL \n",
    "            try:\n",
    "                filename, headers = request.urlretrieve(\n",
    "                    url=self.config.source_URL,\n",
    "                    filename=self.config.local_data_file,\n",
    "                )\n",
    "                logger.info(\"File is downloaded successfully.\")\n",
    "            except Exception as e:\n",
    "                logger.error(f\"Error downloading the file: {e}\")\n",
    "        else:\n",
    "            logger.info(\"File already exists.\")\n",
    "    \n",
    "    def extract_zip_file(self):  # Unzip the file\n",
    "        \"\"\"\n",
    "        Extracts the zip file into the data directory.\n",
    "        Function returns None.\n",
    "        \"\"\"\n",
    "        unzip_path = self.config.unzip_dir\n",
    "        os.makedirs(unzip_path, exist_ok=True)\n",
    "\n",
    "        try:\n",
    "            with zipfile.ZipFile(self.config.local_data_file, 'r') as zip_ref:\n",
    "                zip_ref.extractall(unzip_path)\n",
    "            logger.info(f\"Extracted zip file to {unzip_path}.\")\n",
    "        except zipfile.BadZipFile:\n",
    "            logger.error(f\"Error: The file {self.config.local_data_file} is not a valid ZIP file.\")\n",
    "        except FileNotFoundError:\n",
    "            logger.error(f\"Error: The file {self.config.local_data_file} was not found.\")\n",
    "        except Exception as e:\n",
    "            logger.error(f\"An error occurred while extracting the zip file: {e}\")"
   ]
  },
  {
   "cell_type": "code",
   "execution_count": 133,
   "metadata": {},
   "outputs": [
    {
     "name": "stdout",
     "output_type": "stream",
     "text": [
      "[2024-12-04 17:13:06,233: INFO: common: yaml file: config\\config.yaml loaded successfully]\n",
      "[2024-12-04 17:13:06,235: INFO: common: yaml file: params.yaml loaded successfully]\n",
      "[2024-12-04 17:13:06,239: INFO: common: created directory at: artifacts]\n",
      "[2024-12-04 17:13:06,242: INFO: common: created directory at: artifacts/data_ingestion]\n",
      "[2024-12-04 17:13:07,377: INFO: 2241091367: File is downloaded successfully.]\n",
      "[2024-12-04 17:13:07,485: INFO: 2241091367: Extracted zip file to artifacts/data_ingestion.]\n"
     ]
    }
   ],
   "source": [
    "config=ConfigurationManager()\n",
    "data_ingestion_config=config.get_data_ingestion_config()\n",
    "data_ingestion=DataIngestion(config=data_ingestion_config)\n",
    "\n",
    "data_ingestion.download_file()\n",
    "data_ingestion.extract_zip_file()"
   ]
  }
 ],
 "metadata": {
  "kernelspec": {
   "display_name": "Python 3",
   "language": "python",
   "name": "python3"
  },
  "language_info": {
   "codemirror_mode": {
    "name": "ipython",
    "version": 3
   },
   "file_extension": ".py",
   "mimetype": "text/x-python",
   "name": "python",
   "nbconvert_exporter": "python",
   "pygments_lexer": "ipython3",
   "version": "3.10.15"
  }
 },
 "nbformat": 4,
 "nbformat_minor": 2
}
